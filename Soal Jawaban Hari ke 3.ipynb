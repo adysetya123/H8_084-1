{
 "cells": [
  {
   "cell_type": "code",
   "execution_count": 13,
   "id": "fed606d8",
   "metadata": {},
   "outputs": [
    {
     "name": "stdout",
     "output_type": "stream",
     "text": [
      "Masukan angka :0\n",
      " bilangan 0 Bukan bilangan Ganjil dan genap\n"
     ]
    }
   ],
   "source": [
    "angka = int(input(\"Masukan angka :\"))\n",
    "\n",
    "if angka < 0:\n",
    "    print (\" bilangan\" , angka, \"Bukan bilangan positif\" )\n",
    "elif angka == 0:\n",
    "    print (\" bilangan\" , angka, \"Bukan bilangan Ganjil dan genap\" )\n",
    "elif angka % 2 == 0:\n",
    "    print(\" bilangan\" , angka, \" tergolong Bilangan Genap\")\n",
    "else:\n",
    "    print(\" bilangan\" , angka, \" tergolong Bilangan Ganjil\")"
   ]
  },
  {
   "cell_type": "code",
   "execution_count": 2,
   "id": "f81f8fb6",
   "metadata": {},
   "outputs": [
    {
     "name": "stdout",
     "output_type": "stream",
     "text": [
      "Menghitung Luas Segitiga dan Persegi\n",
      "==================================\n",
      "1. Menghitung Luas Segitiga\n",
      "2. Menghitung Luas Persegi\n",
      "==================================\n",
      "Pilihan Menu Yang diInginkan :2\n",
      "Menghitung Luas Persegi\n",
      "Masukan Sisi Persegi : 40\n",
      "Luas Persegi Tersebut adalah 1600\n"
     ]
    }
   ],
   "source": [
    "def menu() :\n",
    "    print('Menghitung Luas Segitiga dan Persegi')\n",
    "    print('==================================')\n",
    "    print('1. Menghitung Luas Segitiga')\n",
    "    print('2. Menghitung Luas Persegi')\n",
    "\n",
    "def segitiga():\n",
    "    print('Menghitung Luas Segitiga')\n",
    "    a = int(input('Masukan Alas Segitiga : '))\n",
    "    t = int(input('Masukan Tinggi Segitiga :'))\n",
    "    Luas = (a*t)/2\n",
    "    print('Luas Segitiga Tersebut adalah', Luas)\n",
    "    \n",
    "def persegi():\n",
    "    print('Menghitung Luas Persegi')\n",
    "    s = int(input('Masukan Sisi Persegi : '))\n",
    "    Luas = s*s\n",
    "    print('Luas Persegi Tersebut adalah', Luas)\n",
    "    \n",
    "menu()\n",
    "print('==================================')\n",
    "\n",
    "pilih=int(input('Pilihan Menu Yang diInginkan :'))\n",
    "if pilih == 1 :\n",
    "    segitiga()\n",
    "elif pilih == 2 :\n",
    "    persegi()\n",
    "else :\n",
    "    print ('Yang Anda Masukan Tidak Ada di Menu')"
   ]
  },
  {
   "cell_type": "code",
   "execution_count": 17,
   "id": "7c0ec7f8",
   "metadata": {},
   "outputs": [
    {
     "name": "stdout",
     "output_type": "stream",
     "text": [
      "Masukkan Jumlah Hari: 398\n",
      "\n",
      "398 hari = 1 Tahun 1 bulan 1 minggu 1 hari\n"
     ]
    }
   ],
   "source": [
    "import math\n",
    "\n",
    "jumlah_hari = int(input(\"Masukkan Jumlah Hari: \"))\n",
    "\n",
    "tahun = math.floor(jumlah_hari/360)\n",
    "bulan = math.floor((jumlah_hari - (tahun*360)) / 30)\n",
    "minggu = math.floor ((jumlah_hari - (tahun *360)-(30*bulan))/7)\n",
    "hari = math.floor(jumlah_hari - (minggu*7)-(tahun *360)-(30*bulan))\n",
    "\n",
    "print()\n",
    "print(jumlah_hari,\"hari =\",tahun,\"Tahun\",bulan,\"bulan\",minggu,\"minggu\",hari,\"hari\")"
   ]
  },
  {
   "cell_type": "code",
   "execution_count": null,
   "id": "356ebb92",
   "metadata": {},
   "outputs": [],
   "source": []
  }
 ],
 "metadata": {
  "kernelspec": {
   "display_name": "Python 3 (ipykernel)",
   "language": "python",
   "name": "python3"
  },
  "language_info": {
   "codemirror_mode": {
    "name": "ipython",
    "version": 3
   },
   "file_extension": ".py",
   "mimetype": "text/x-python",
   "name": "python",
   "nbconvert_exporter": "python",
   "pygments_lexer": "ipython3",
   "version": "3.9.12"
  }
 },
 "nbformat": 4,
 "nbformat_minor": 5
}
