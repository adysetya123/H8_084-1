{
 "cells": [
  {
   "cell_type": "code",
   "execution_count": 2,
   "id": "9558597c",
   "metadata": {},
   "outputs": [
    {
     "name": "stdout",
     "output_type": "stream",
     "text": [
      "mulai :1\n",
      "selesai :28\n",
      "1 DIMENSI\n",
      "[ 1  2  3  4  5  6  7  8  9 10 11 12 13 14 15 16 17 18 19 20 21 22 23 24\n",
      " 25 26 27]\n",
      "2 DIMENSI\n",
      "[[ 1  2  3  4  5  6  7  8  9]\n",
      " [10 11 12 13 14 15 16 17 18]\n",
      " [19 20 21 22 23 24 25 26 27]]\n",
      "3 DIMENSI\n",
      "[[[ 1  2  3]\n",
      "  [ 4  5  6]\n",
      "  [ 7  8  9]]\n",
      "\n",
      " [[10 11 12]\n",
      "  [13 14 15]\n",
      "  [16 17 18]]\n",
      "\n",
      " [[19 20 21]\n",
      "  [22 23 24]\n",
      "  [25 26 27]]]\n"
     ]
    }
   ],
   "source": [
    "import numpy as np\n",
    "\n",
    "mulai = int(input(\"mulai :\"))\n",
    "selesai = int(input(\"selesai :\"))\n",
    "a = np.arange(mulai,selesai,1)\n",
    "b = a.reshape(3,int(selesai/3))\n",
    "c = b.reshape (3,3,3) \n",
    "\n",
    "print (\"1 DIMENSI\")\n",
    "print (a)\n",
    "print (\"2 DIMENSI\")\n",
    "print (b)\n",
    "print (\"3 DIMENSI\")\n",
    "print (c)"
   ]
  },
  {
   "cell_type": "code",
   "execution_count": 14,
   "id": "0932ac09",
   "metadata": {},
   "outputs": [
    {
     "name": "stdout",
     "output_type": "stream",
     "text": [
      "Banyak Data :16\n",
      "Mulai :1\n",
      "Selesai :50\n",
      "Bangkitkan Array 1 Dimensi Dari Random Integer\n",
      "[21 43 49 37 44 21 28 37 17 10 21 35 12 23 19 27]\n",
      "DUA DIMENSI\n",
      "[[21 43 49 37]\n",
      " [44 21 28 37]\n",
      " [17 10 21 35]\n",
      " [12 23 19 27]]\n",
      "TUKAR POSISI\n",
      "[[37 49 43 21]\n",
      " [37 28 21 44]\n",
      " [35 21 10 17]\n",
      " [27 19 23 12]]\n"
     ]
    }
   ],
   "source": [
    "import numpy as np\n",
    "from numpy import random\n",
    "\n",
    "Data = int(input(\"Banyak Data :\"))\n",
    "Mulai = int(input(\"Mulai :\"))\n",
    "Selesai = int(input(\"Selesai :\"))\n",
    "\n",
    "#print()\n",
    "\n",
    "a = np.random.randint(Mulai, Selesai, Data)\n",
    "b = a.reshape(4,4)\n",
    "c = b[:, ::-1]\n",
    "\n",
    "print(\"Bangkitkan Array 1 Dimensi Dari Random Integer\")\n",
    "print (a)\n",
    "print (\"DUA DIMENSI\")\n",
    "print (b)\n",
    "print (\"TUKAR POSISI\")\n",
    "print (c)"
   ]
  },
  {
   "cell_type": "code",
   "execution_count": 7,
   "id": "0a2319cb",
   "metadata": {},
   "outputs": [
    {
     "data": {
      "text/plain": [
       "array([[4., 4., 4., 4., 4., 4., 4., 4., 4., 4.],\n",
       "       [4., 0., 0., 0., 0., 0., 0., 0., 0., 4.],\n",
       "       [4., 0., 0., 0., 0., 0., 0., 0., 0., 4.],\n",
       "       [4., 0., 0., 0., 0., 0., 0., 0., 0., 4.],\n",
       "       [4., 0., 0., 0., 0., 0., 0., 0., 0., 4.],\n",
       "       [4., 0., 0., 0., 0., 0., 0., 0., 0., 4.],\n",
       "       [4., 0., 0., 0., 0., 0., 0., 0., 0., 4.],\n",
       "       [4., 0., 0., 0., 0., 0., 0., 0., 0., 4.],\n",
       "       [4., 0., 0., 0., 0., 0., 0., 0., 0., 4.],\n",
       "       [4., 4., 4., 4., 4., 4., 4., 4., 4., 4.]])"
      ]
     },
     "execution_count": 7,
     "metadata": {},
     "output_type": "execute_result"
    }
   ],
   "source": [
    "x = np.ones((10,10))*4\n",
    "x[1:-1, 1:-1] = 0\n",
    "x"
   ]
  },
  {
   "cell_type": "code",
   "execution_count": null,
   "id": "adc9aae4",
   "metadata": {},
   "outputs": [],
   "source": []
  }
 ],
 "metadata": {
  "kernelspec": {
   "display_name": "Python 3 (ipykernel)",
   "language": "python",
   "name": "python3"
  },
  "language_info": {
   "codemirror_mode": {
    "name": "ipython",
    "version": 3
   },
   "file_extension": ".py",
   "mimetype": "text/x-python",
   "name": "python",
   "nbconvert_exporter": "python",
   "pygments_lexer": "ipython3",
   "version": "3.9.12"
  }
 },
 "nbformat": 4,
 "nbformat_minor": 5
}
