{
 "cells": [
  {
   "cell_type": "code",
   "execution_count": 2,
   "id": "f5011c34",
   "metadata": {},
   "outputs": [],
   "source": [
    "def my_function(p, l):\n",
    "    \"Function untuk mengitung luas\"\n",
    "    print(p * l)"
   ]
  },
  {
   "cell_type": "code",
   "execution_count": 3,
   "id": "8a533942",
   "metadata": {},
   "outputs": [
    {
     "name": "stdout",
     "output_type": "stream",
     "text": [
      "8\n"
     ]
    }
   ],
   "source": [
    "my_function(2,4)"
   ]
  },
  {
   "cell_type": "code",
   "execution_count": 4,
   "id": "e55aea66",
   "metadata": {},
   "outputs": [],
   "source": [
    "def printme( str ):\n",
    "   \"This prints a passed string into this function\"\n",
    "   print(str)\n",
    "   return"
   ]
  },
  {
   "cell_type": "code",
   "execution_count": 5,
   "id": "37b70ce5",
   "metadata": {},
   "outputs": [
    {
     "name": "stdout",
     "output_type": "stream",
     "text": [
      "I'm first call to user defined function!\n",
      "Again second call to the same function\n"
     ]
    }
   ],
   "source": [
    "# Function definition is here\n",
    "def printme( str ):\n",
    "   \"This prints a passed string into this function\"\n",
    "   print(str)\n",
    "   return;\n",
    "\n",
    "# Now you can call printme function\n",
    "printme(\"I'm first call to user defined function!\")\n",
    "printme(\"Again second call to the same function\")"
   ]
  },
  {
   "cell_type": "code",
   "execution_count": 8,
   "id": "a082ff1a",
   "metadata": {},
   "outputs": [
    {
     "name": "stdout",
     "output_type": "stream",
     "text": [
      "Values inside the function:  [10, 20, 30, [1, 2, 3, 4]]\n",
      "Values outside the function:  [10, 20, 30, [1, 2, 3, 4]]\n"
     ]
    }
   ],
   "source": [
    "# Function definition is here\n",
    "def changeme( mylist ):\n",
    "   \"This changes a passed list into this function\"\n",
    "   mylist.append([1,2,3,4]);\n",
    "   print(\"Values inside the function: \", mylist)\n",
    "   return\n",
    "\n",
    "# Now you can call changeme function\n",
    "mylist = [10,20,30];\n",
    "changeme( mylist );\n",
    "print(\"Values outside the function: \", mylist)"
   ]
  },
  {
   "cell_type": "code",
   "execution_count": 9,
   "id": "a6a12fe8",
   "metadata": {},
   "outputs": [
    {
     "name": "stdout",
     "output_type": "stream",
     "text": [
      "Values inside the function:  [1, 2, 3, 4]\n",
      "Values outside the function:  [10, 20, 30]\n"
     ]
    }
   ],
   "source": [
    "# Function definition is here\n",
    "def changeme( mylist ):\n",
    "   \"This changes a passed list into this function\"\n",
    "   mylist = [1,2,3,4]; # This would assig new reference in mylist\n",
    "   print(\"Values inside the function: \", mylist)\n",
    "   return\n",
    "\n",
    "# Now you can call changeme function\n",
    "mylist = [10,20,30];\n",
    "changeme( mylist );\n",
    "print(\"Values outside the function: \", mylist)"
   ]
  },
  {
   "cell_type": "code",
   "execution_count": 10,
   "id": "7ee3965d",
   "metadata": {},
   "outputs": [
    {
     "ename": "TypeError",
     "evalue": "printme() missing 1 required positional argument: 'str'",
     "output_type": "error",
     "traceback": [
      "\u001b[1;31m---------------------------------------------------------------------------\u001b[0m",
      "\u001b[1;31mTypeError\u001b[0m                                 Traceback (most recent call last)",
      "Input \u001b[1;32mIn [10]\u001b[0m, in \u001b[0;36m<cell line: 8>\u001b[1;34m()\u001b[0m\n\u001b[0;32m      5\u001b[0m    \u001b[38;5;28;01mreturn\u001b[39;00m;\n\u001b[0;32m      7\u001b[0m \u001b[38;5;66;03m# Now you can call printme function\u001b[39;00m\n\u001b[1;32m----> 8\u001b[0m \u001b[43mprintme\u001b[49m\u001b[43m(\u001b[49m\u001b[43m)\u001b[49m\n",
      "\u001b[1;31mTypeError\u001b[0m: printme() missing 1 required positional argument: 'str'"
     ]
    }
   ],
   "source": [
    "# Function definition is here\n",
    "def printme( str ):\n",
    "   \"This prints a passed string into this function\"\n",
    "   print(str)\n",
    "   return;\n",
    "\n",
    "# Now you can call printme function\n",
    "printme()"
   ]
  },
  {
   "cell_type": "code",
   "execution_count": 11,
   "id": "3ce1cef5",
   "metadata": {},
   "outputs": [
    {
     "name": "stdout",
     "output_type": "stream",
     "text": [
      "Hacktiv8\n"
     ]
    }
   ],
   "source": [
    "# Function definition is here\n",
    "def printme( str ):\n",
    "   \"This prints a passed string into this function\"\n",
    "   print(str)\n",
    "   return;\n",
    "\n",
    "# Now you can call printme function\n",
    "printme(str = \"Hacktiv8\")"
   ]
  },
  {
   "cell_type": "code",
   "execution_count": 13,
   "id": "7527e1a4",
   "metadata": {},
   "outputs": [
    {
     "name": "stdout",
     "output_type": "stream",
     "text": [
      "Name:  saya\n",
      "Age:  4\n"
     ]
    }
   ],
   "source": [
    "# Function definition is here\n",
    "def printinfo( name, age ):\n",
    "   \"This prints a passed info into this function\"\n",
    "   print(\"Name: \", name)\n",
    "   print(\"Age: \", age)\n",
    "   return;\n",
    "\n",
    "# Now you can call printinfo function\n",
    "printinfo( age=4, name=\"saya\" )"
   ]
  },
  {
   "cell_type": "code",
   "execution_count": 23,
   "id": "2bc1b142",
   "metadata": {},
   "outputs": [
    {
     "name": "stdout",
     "output_type": "stream",
     "text": [
      "Name:  hacktiv8\n",
      "Age:  50\n",
      "Name:  saya\n",
      "Age:  26\n"
     ]
    }
   ],
   "source": [
    "# Function definition is here\n",
    "def printinfo( name, age = 26 ):\n",
    "   \"This prints a passed info into this function\"\n",
    "   print(\"Name: \", name)\n",
    "   print(\"Age: \", age)\n",
    "   return;\n",
    "\n",
    "# Now you can call printinfo function\n",
    "printinfo( age=50, name=\"hacktiv8\" )\n",
    "printinfo( name=\"saya\" )"
   ]
  },
  {
   "cell_type": "code",
   "execution_count": 27,
   "id": "a3d47857",
   "metadata": {},
   "outputs": [
    {
     "name": "stdout",
     "output_type": "stream",
     "text": [
      "Output is: \n",
      "10\n",
      "Output is: \n",
      "70\n",
      "60\n",
      "50\n",
      "s\n"
     ]
    }
   ],
   "source": [
    "# Function definition is here\n",
    "def printinfo( arg1, *vartuple ):\n",
    "    \"This prints a variable passed arguments\"\n",
    "    print(\"Output is: \")\n",
    "    print(arg1)\n",
    "    for var in vartuple:\n",
    "        print(var)\n",
    "    return;\n",
    "\n",
    "# Now you can call printinfo function\n",
    "printinfo( 10 )\n",
    "printinfo( 70, 60, 50, \"s\" )"
   ]
  },
  {
   "cell_type": "code",
   "execution_count": 34,
   "id": "b2737144",
   "metadata": {},
   "outputs": [
    {
     "name": "stdout",
     "output_type": "stream",
     "text": [
      "Value of total :  70\n",
      "Value of total :  40\n"
     ]
    }
   ],
   "source": [
    "# Function definition is here\n",
    "sum = lambda arg1, arg2: arg1 + arg2;\n",
    "\n",
    "#def sum(arg1, arg2):\n",
    "  #  arg1 + arg2\n",
    "    \n",
    "# Now you can call sum as a function\n",
    "print(\"Value of total : \", sum( 50, 20 ))\n",
    "print(\"Value of total : \", sum( 20, 20 ))"
   ]
  },
  {
   "cell_type": "code",
   "execution_count": 49,
   "id": "5b33a52c",
   "metadata": {},
   "outputs": [
    {
     "name": "stdout",
     "output_type": "stream",
     "text": [
      "Inside the function :  40\n",
      "Outside the function :  60\n"
     ]
    }
   ],
   "source": [
    "# Function definition is here\n",
    "def sum(arg1, arg2):\n",
    "    # Add both the parameters and return them.\"\n",
    "    total = arg1 + arg2\n",
    "    total2 = total + arg1\n",
    "    print(\"Inside the function : \", total)\n",
    "    return total2\n",
    "\n",
    "# Now you can call sum function\n",
    "total = sum(20, 20)\n",
    "print(\"Outside the function : \", total)"
   ]
  },
  {
   "cell_type": "code",
   "execution_count": 54,
   "id": "5260a237",
   "metadata": {
    "scrolled": true
   },
   "outputs": [
    {
     "name": "stdout",
     "output_type": "stream",
     "text": [
      "Inside the function local total :  30\n",
      "Outside the function global total :  0\n"
     ]
    }
   ],
   "source": [
    "total = 0; \n",
    "\n",
    "def sum( arg1, arg2 ):\n",
    "\n",
    " total = arg1 + arg2; \n",
    " print(\"Inside the function local total : \", total)\n",
    " return total;\n",
    "\n",
    "#def min():\n",
    "    \n",
    "\n",
    "sum( 10, 20 );\n",
    "print(\"Outside the function global total : \", total)"
   ]
  },
  {
   "cell_type": "code",
   "execution_count": 66,
   "id": "74115cf5",
   "metadata": {},
   "outputs": [
    {
     "name": "stdout",
     "output_type": "stream",
     "text": [
      " Jumlah Hewan 50\n",
      " Jumlah Kelinci 40\n"
     ]
    },
    {
     "data": {
      "text/plain": [
       "40"
      ]
     },
     "execution_count": 66,
     "metadata": {},
     "output_type": "execute_result"
    }
   ],
   "source": [
    "jumlahKucing = 20\n",
    "\n",
    "def jumlahHewan():\n",
    "    jumlahAnjing = 30\n",
    "    return jumlahKucing + jumlahAnjing\n",
    "\n",
    "def jumlahKelinci():\n",
    "    return jumlahKucing + jumlahKucing\n",
    "\n",
    "print (\" Jumlah Hewan\" , jumlahHewan())\n",
    "print (\" Jumlah Kelinci\" , jumlahKelinci())\n",
    "jumlahKelinci()"
   ]
  },
  {
   "cell_type": "code",
   "execution_count": 67,
   "id": "b68546c5",
   "metadata": {},
   "outputs": [
    {
     "name": "stdout",
     "output_type": "stream",
     "text": [
      "masukan angka: 10\n"
     ]
    }
   ],
   "source": [
    "Angka = input(\"masukan angka: \")"
   ]
  },
  {
   "cell_type": "code",
   "execution_count": 75,
   "id": "fc151cc1",
   "metadata": {},
   "outputs": [
    {
     "name": "stdout",
     "output_type": "stream",
     "text": [
      "Masukan Bilangan :-3\n"
     ]
    },
    {
     "ename": "TypeError",
     "evalue": "not all arguments converted during string formatting",
     "output_type": "error",
     "traceback": [
      "\u001b[1;31m---------------------------------------------------------------------------\u001b[0m",
      "\u001b[1;31mTypeError\u001b[0m                                 Traceback (most recent call last)",
      "Input \u001b[1;32mIn [75]\u001b[0m, in \u001b[0;36m<cell line: 3>\u001b[1;34m()\u001b[0m\n\u001b[0;32m      4\u001b[0m     \u001b[38;5;28mprint\u001b[39m(\u001b[38;5;124m\"\u001b[39m\u001b[38;5;124m Merupakan Bilangan Genap\u001b[39m\u001b[38;5;124m\"\u001b[39m \u001b[38;5;241m%\u001b[39m bil)\n\u001b[0;32m      5\u001b[0m \u001b[38;5;28;01melif\u001b[39;00m bil \u001b[38;5;241m<\u001b[39m\u001b[38;5;241m=\u001b[39m \u001b[38;5;241m0\u001b[39m:\n\u001b[1;32m----> 6\u001b[0m     \u001b[38;5;28mprint\u001b[39m (\u001b[38;5;124;43m\"\u001b[39;49m\u001b[38;5;124;43m Bukan bilangan positif\u001b[39;49m\u001b[38;5;124;43m\"\u001b[39;49m\u001b[43m  \u001b[49m\u001b[38;5;241;43m%\u001b[39;49m\u001b[43m \u001b[49m\u001b[43mbil\u001b[49m)\n\u001b[0;32m      7\u001b[0m \u001b[38;5;28;01melse\u001b[39;00m:\n\u001b[0;32m      8\u001b[0m     \u001b[38;5;28mprint\u001b[39m(\u001b[38;5;124m\"\u001b[39m\u001b[38;5;124m Merupakan Bilangan Ganjil\u001b[39m\u001b[38;5;124m\"\u001b[39m \u001b[38;5;241m%\u001b[39m bil)\n",
      "\u001b[1;31mTypeError\u001b[0m: not all arguments converted during string formatting"
     ]
    }
   ],
   "source": [
    "bil = int(input(\"Masukan Bilangan :\"))\n",
    "\n",
    "if bil % 2 == 0:\n",
    "    print(\" Merupakan Bilangan Genap\" % bil)\n",
    "elif bil <= 0:\n",
    "    print (\" Bukan bilangan positif\"  % bil)\n",
    "else:\n",
    "    print(\" Merupakan Bilangan Ganjil\" % bil)\n",
    "    "
   ]
  },
  {
   "cell_type": "code",
   "execution_count": 117,
   "id": "9a807b0c",
   "metadata": {},
   "outputs": [
    {
     "name": "stdout",
     "output_type": "stream",
     "text": [
      "Masukan angka :0\n",
      " bilangan 0 Bukan bilangan positif\n"
     ]
    }
   ],
   "source": [
    "angka = int(input(\"Masukan angka :\"))\n",
    "\n",
    "if angka <= 0:\n",
    "    print (\" bilangan\" , angka, \"Bukan bilangan positif\" )\n",
    "elif angka / 2 == 0:\n",
    "    print(\" bilangan\" , angka, \" tergolong Bilangan Genap\")\n",
    "else:\n",
    "    print(\" bilangan\" , angka, \" tergolong Bilangan Ganjil\")"
   ]
  },
  {
   "cell_type": "code",
   "execution_count": 99,
   "id": "c87e3d8f",
   "metadata": {},
   "outputs": [
    {
     "name": "stdout",
     "output_type": "stream",
     "text": [
      "Menghitung Luas Segitiga & Persegi\n",
      "==================================\n",
      "1. Menghitung Luas Segitiga\n",
      "2. Menghitung Luas Persegi\n",
      "==================================\n",
      "Pilihan Menu Yang diInginkan :1\n",
      "Menghitung Luas Segitiga\n",
      "Masukan Alas Segitiga : 4\n",
      "Masukan Tinggi Segitiga :4\n",
      "Luas Segitiga Tersebut adalah 8.0\n"
     ]
    }
   ],
   "source": [
    "def menu() :\n",
    "    print('Menghitung Luas Segitiga dan Persegi')\n",
    "    print('==================================')\n",
    "    print('1. Menghitung Luas Segitiga')\n",
    "    print('2. Menghitung Luas Persegi')\n",
    "\n",
    "def segitiga():\n",
    "    print('Menghitung Luas Segitiga')\n",
    "    a = int(input('Masukan Alas Segitiga : '))\n",
    "    t = int(input('Masukan Tinggi Segitiga :'))\n",
    "    Luas = (a*t)/2\n",
    "    print('Luas Segitiga Tersebut adalah', Luas)\n",
    "    \n",
    "def persegi():\n",
    "    print('Menghitung Luas Persegi')\n",
    "    s = int(input('Masukan Sisi Persegi : '))\n",
    "    Luas = s*s\n",
    "    print('Luas Persegi Tersebut adalah', Luas)\n",
    "    \n",
    "menu()\n",
    "print('==================================')\n",
    "\n",
    "pilih=int(input('Pilihan Menu Yang diInginkan :'))\n",
    "if pilih == 1 :\n",
    "    segitiga()\n",
    "elif pilih == 2 :\n",
    "    persegi()\n",
    "else :\n",
    "    print ('Yang Anda Masukan Tidak Ada di Menu')"
   ]
  },
  {
   "cell_type": "code",
   "execution_count": 92,
   "id": "b3a1c60c",
   "metadata": {},
   "outputs": [
    {
     "name": "stdout",
     "output_type": "stream",
     "text": [
      "Masukan jumlah hari :500\n",
      "500 hari = \n"
     ]
    }
   ],
   "source": [
    "A = int(input(\"Masukan jumlah hari :\"))\n",
    "tahun = A-360\n",
    "print (A, \"hari = \", )"
   ]
  },
  {
   "cell_type": "code",
   "execution_count": 112,
   "id": "a7217de0",
   "metadata": {},
   "outputs": [
    {
     "ename": "SyntaxError",
     "evalue": "invalid syntax (1190215367.py, line 6)",
     "output_type": "error",
     "traceback": [
      "\u001b[1;36m  Input \u001b[1;32mIn [112]\u001b[1;36m\u001b[0m\n\u001b[1;33m    b =\u001b[0m\n\u001b[1;37m        ^\u001b[0m\n\u001b[1;31mSyntaxError\u001b[0m\u001b[1;31m:\u001b[0m invalid syntax\n"
     ]
    }
   ],
   "source": [
    "def menu() :\n",
    "    print('Menghitung Jumlah Hari')\n",
    "\n",
    "def tahun() :\n",
    "    t = A-360\n",
    "    b = \n",
    "menu()\n",
    "print('===========================')\n",
    "\n",
    "A = int(input(\"Masukan jumlah hari :\"))\n",
    "    "
   ]
  },
  {
   "cell_type": "code",
   "execution_count": 115,
   "id": "627de32c",
   "metadata": {},
   "outputs": [
    {
     "name": "stdout",
     "output_type": "stream",
     "text": [
      "Masukkan Jumlah Hari: 500\n",
      "500 hari = 1 Tahun 4 bulan 2 minggu 1 hari\n"
     ]
    }
   ],
   "source": [
    "jumlah_hari = int(input(\"Masukkan Jumlah Hari: \"))\n",
    "t = round(jumlah_hari/365)\n",
    "b = round((jumlah_hari - (t*365))/30)\n",
    "m = round ((jumlah_hari - (t *365)-(30*b))/7)\n",
    "h = round(jumlah_hari - (m*7)-(t *365)-(30*b))\n",
    "print(jumlah_hari,\"hari\",\"=\",t ,\"Tahun\",b ,\"bulan\",m ,\"minggu\",h ,\"hari\")"
   ]
  },
  {
   "cell_type": "code",
   "execution_count": 116,
   "id": "53fd55e0",
   "metadata": {},
   "outputs": [
    {
     "name": "stdout",
     "output_type": "stream",
     "text": [
      "Masukkan Jumlah Hari: 500\n",
      "\n",
      "500 hari = 1 Tahun 4 bulan 2 minggu 6 hari\n"
     ]
    }
   ],
   "source": [
    "import math\n",
    "\n",
    "jumlah_hari = int(input(\"Masukkan Jumlah Hari: \"))\n",
    "\n",
    "tahun = math.floor(jumlah_hari/360)\n",
    "bulan = math.floor((jumlah_hari - (tahun*360)) / 30)\n",
    "minggu = math.floor ((jumlah_hari - (tahun *360)-(30*bulan))/7)\n",
    "hari = math.floor(jumlah_hari - (minggu*7)-(tahun *360)-(30*bulan))\n",
    "\n",
    "print()\n",
    "print(jumlah_hari,\"hari =\",tahun,\"Tahun\",bulan,\"bulan\",minggu,\"minggu\",hari,\"hari\")"
   ]
  },
  {
   "cell_type": "code",
   "execution_count": null,
   "id": "b1caec79",
   "metadata": {},
   "outputs": [],
   "source": []
  }
 ],
 "metadata": {
  "kernelspec": {
   "display_name": "Python 3 (ipykernel)",
   "language": "python",
   "name": "python3"
  },
  "language_info": {
   "codemirror_mode": {
    "name": "ipython",
    "version": 3
   },
   "file_extension": ".py",
   "mimetype": "text/x-python",
   "name": "python",
   "nbconvert_exporter": "python",
   "pygments_lexer": "ipython3",
   "version": "3.9.12"
  }
 },
 "nbformat": 4,
 "nbformat_minor": 5
}
